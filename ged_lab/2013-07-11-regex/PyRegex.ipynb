{
 "metadata": {
  "name": "PyRegex"
 },
 "nbformat": 3,
 "nbformat_minor": 0,
 "worksheets": [
  {
   "cells": [
    {
     "cell_type": "markdown",
     "metadata": {},
     "source": [
      "# Using regular expressions in python\n",
      "\n",
      "Before we dive in, a little background on regular expressions in python.\n",
      "\n",
      "Python has a regular expression package named 're'.  \n",
      "\n",
      "All patterns must be compiled in to a python regex object using the re.compile function.  \n",
      "\n",
      "There are a variety of ways to match patterns using the regular expression objects, the main methods are `match` which matches starting at the beginning of a string.  The `search` method finds matches to the pattern anywhere in a string.  The findall method is a quick and easy way to use the search method."
     ]
    },
    {
     "cell_type": "code",
     "collapsed": false,
     "input": [
      "import re"
     ],
     "language": "python",
     "metadata": {},
     "outputs": [],
     "prompt_number": 1
    },
    {
     "cell_type": "markdown",
     "metadata": {},
     "source": [
      "Lets also grab some test data"
     ]
    },
    {
     "cell_type": "code",
     "collapsed": false,
     "input": [
      "import urllib2\n",
      "text = urllib2.urlopen(\"http://ged.msu.edu/pubs.html\").read()"
     ],
     "language": "python",
     "metadata": {},
     "outputs": [],
     "prompt_number": 4
    },
    {
     "cell_type": "code",
     "collapsed": true,
     "input": [
      "text"
     ],
     "language": "python",
     "metadata": {},
     "outputs": [
      {
       "output_type": "pyout",
       "prompt_number": 5,
       "text": [
        "'<!DOCTYPE html PUBLIC \"-//W3C//DTD XHTML 1.0 Transitional//EN\"\\n    \"http://www.w3.org/TR/xhtml1/DTD/xhtml1-transitional.dtd\">\\n<html xmlns=\"http://www.w3.org/1999/xhtml\">\\n<head>\\n<meta http-equiv=\"Content-Type\" content=\"text/html; charset=utf-8\" />\\n<link rel=\"stylesheet\" type=\"text/css\" href=\"style.css\" />\\n<title>Lab of Genomics, Evolution, and Development @ Michigan State</title>\\n\\n<script type=\"text/javascript\">\\n\\n  var _gaq = _gaq || [];\\n  _gaq.push([\\'_setAccount\\', \\'UA-16853172-1\\']);\\n  _gaq.push([\\'_trackPageview\\']);\\n\\n  (function() {\\n    var ga = document.createElement(\\'script\\'); ga.type = \\'text/javascript\\'; ga.async = true;\\n    ga.src = (\\'https:\\' == document.location.protocol ? \\'https://ssl\\' : \\'http://www\\') + \\'.google-analytics.com/ga.js\\';\\n    var s = document.getElementsByTagName(\\'script\\')[0]; s.parentNode.insertBefore(ga, s);\\n  })();\\n</script>\\n</head>\\n\\n<body>\\n<!-- from OSWD, \"translucent lucidity\"; http://www.oswd.org/design/preview/id/2959 -->\\n\\n<div id=\"header\">\\n<h1>\\nLaboratory of Genomics, Evolution and Development\\n</h1>\\n<br>\\nMichigan State University\\n\\n</h1>\\n</div>\\n<ul id=\"nav\">\\n<li><a href=\"index.html\">Main page</a></li>\\n<li><a href=\"interests.html\">Interests/Projects</a></li>\\n<li><a href=\"pubs.html\">Publications</a></li>\\n<li><a href=\"members.html\">Lab Info</a></li>\\n<li><a href=\"joining.html\">Joining the Lab</a></li>\\n<li><a href=\"contact.html\">Contact</a></li>\\n</ul>\\n<div id=\"container\">\\n<div id=\"content\">\\n\\n\\n<h2>Publications</h2>\\n\\n<i>August 2012</i>\\n\\n<p>\\n\\n<b>Selected prior publications:</b>\\n\\n<table border=\"1\" width=\"100%\">\\n <tr>\\n  <td>\\n\\n<b><i>Scaling metagenome sequence assembly with probabilistic De Bruijn graphs.</i></b> Jason Pell, Arend Hintze, Rosangela Canino-Koning, Adina Howe, James M. Tiedje, and C. Titus Brown.\\n<b>Proc Natl Acad Sci USA.</b> 2012. (Open Access) [ <a href=\"http://pnas.org/content/early/2012/07/25/1121464109.abstract\">journal</a> | <a href=\\'./papers/2012-kmer-percolation/\\'>materials</a> ]\\n\\n  </td>\\n  <td>\\n  dry, tools, metagenomics, k-mers, assembly\\n  </td>\\n </tr>\\n <tr>\\n  <td>\\n\\n<b><i>Standing Genetic Variation in Contingency Loci Drives the Rapid Adaptation of Campylobacter jejuni to a Novel Host</i></b>. Jerome JP, Bell JA, Plovanich-Jones AE, Barrick JE, Brown CT, Manfield LS. <b>PLoS One</b> 6 (1), e16399, Jan 24 2011.  <a href=\"http://www.plosone.org/article/info%3Adoi%2F10.1371%2Fjournal.pone.0016399\">[Link]</a>\\n\\n  </td>\\n  <td>\\n  wet, experimental evolution, genomics\\n  </td>\\n </tr>\\n<!-- <tr>\\n  <td>\\n\\n<i>The cyIIIa cis-regulatory system.</i>  C.T. Brown and E.H. Davidson.\\n<i>In preparation.</i>\\n\\n  </td>\\n  <td>\\nwet, cis-regulation\\n  </td>\\n </tr>\\n <tr>\\n-->\\n<tr>\\n  <td>\\n<i><b>Exploring the future of bioinformatics data sharing and mining with\\nPygr and Worldbase</b></i>\\nChristopher Lee (UCLA), Alexander Alekseyenko (NYU), C. Titus Brown (MSU),\\nin Proceedings of the 8th Python in Science conference (SciPy 2009), G Varoquaux, S van der Walt, J Millman (Eds.), pp. 62-67\\n<A href=\\'http://conference.scipy.org/proceedings/SciPy2009/paper_10/\\'>[ link ]</a>\\n  </td>\\n  <td>\\n  dry, tools\\n  </td>\\n</tr>\\n  <td>\\n\\n<b><i>Diverse syntrophic partnerships from deep-sea methane vents revealed by direct cell capture and metagenomics.</i></b> Pernthaler A, Dekas AE, Brown CT, Goffredi SK, Embaye T, Orphan VJ.\\n<b>Proc Natl Acad Sci USA.</b> 2008 May 13;105(19):7052-7. <a href=\"http://www.pubmedcentral.nih.gov/articlerender.fcgi?tool=pubmed&pubmedid=18467493\">[Link]</a>\\n\\n  </td>\\n  <td>\\nmicrobial, metagenomics, dry\\n  </td>\\n </tr>\\n <tr>\\n  <td>\\n\\n<b><i>Computational approaches to finding and analyzing cis-regulatory elements.</i></b> Brown CT.\\n<b>Methods Cell Biol.</b> 2008;87:337-65. <a href=\"http://www.sciencedirect.com/science?_ob=ArticleURL&_udi=B7CV1-4SH67WK-P&_user=1111158&_rdoc=1&_fmt=&_orig=search&_sort=d&view=c&_acct=C000051676&_version=1&_urlVersion=0&_userid=1111158&md5=4a614f1b7e6af1dce050389c8316127c\">[Link]</a>\\n\\n  </td>\\n  <td>\\ndry, regulatory genomics\\n  </td>\\n </tr>\\n <tr>\\n  <td>\\n\\n<b><i>High regulatory gene use in sea urchin embryogenesis: Implications for bilaterian development and evolution.</i></b> Howard-Ashby M, Materna SC, Brown CT, Tu Q, Oliveri P, Cameron RA, Davidson EH.\\n<b>Dev Biol.</b> 2006 Dec 1;300(1):27-34. <a href=\"http://www.pubmedcentral.nih.gov/articlerender.fcgi?tool=pubmed&pubmedid=17101125\">[Link]</a>\\n\\n  </td>\\n  <td>\\ndry, regulatory genomics\\n  </td>\\n </tr>\\n <tr>\\n  <td>\\n\\n<b><i>The Genome of the Sea Urchin Strongylocentrotuts purpuratus</b></i>. Sea Urchin Genome Sequencing Consortium.\\n<b>Science.</b> 2006 Nov 10;314(5801):941-52. <a href=\"http://www.sciencemag.org/cgi/content/full/314/5801/941\">[Link]</a>\\n\\n  </td>\\n  <td>\\ngenomics\\n  </td>\\n </tr>\\n <tr>\\n  <td>\\n\\n<b><i>Gene families encoding transcription factors expressed in early\\ndevelopment of </i>Strongylocentrotus purpuratus.</b>  M. Howard-Ashby,\\nS.C. Materna, C.T. Brown, L. Chen, R.A. Cameron, and E.H. Davidson.\\n<b>Dev Biol.</b> 2006 Aug 22 (epub). <a href=\"http://www.sciencedirect.com/science?_ob=ArticleURL&_udi=B6WDG-4KPN46T-1&_user=1111158&_rdoc=1&_fmt=&_orig=search&_sort=d&view=c&_acct=C000051676&_version=1&_urlVersion=0&_userid=1111158&md5=2aa948222824fda50845309667f71c97\">[Link]</a>\\n  </td>\\n  <td>\\ndry, genomics, large-scale\\n  </td>\\n </tr>\\n <tr>\\n  <td>\\n\\n<b><i>Anaerobic regulation by an atypical Arc system in Shewanella oneidensis.</i></b> J.A. Gralnick, C.T. Brown, and D.K. Newman. <b>Mol Microbiol.</b> 2005 Jun;56(5):1347-57. <a href=\"http://www3.interscience.wiley.com/journal/118659843/abstract\">[Link]</a>\\n\\n  </td>\\n  <td>\\nmicrobial, regulatory genomics\\n  </td>\\n </tr>\\n <tr>\\n  <td>\\n\\n<b><i>Paircomp, FamilyRelationsII and Cartwheel: Tools for Interspecific\\nSequence Comparison.</i></b> C. T. Brown (corresponding author), Y. Xie,\\nE.H. Davidson, R.A. Cameron. <b>BMC Bioinformatics.</b> 2005 Mar\\n24;6(1):70. <a href=\"http://www.pubmedcentral.nih.gov/articlerender.fcgi?artid=1087472\">[Link]</a>\\n\\n  </td>\\n  <td>\\ndry, regulatory genomics, animal\\n  </td>\\n </tr>\\n <tr>\\n  <td>\\n\\n<b><i>Evolutionary comparisons suggest many novel cAMP response protein\\nbinding sites in Escherichia coli.</i></b>\\nBrown CT, Callan CG Jr. \\n<b>Proc Natl Acad Sci USA.</b> 2004 Feb 24;101(8):2404-9. <a href=\"http://www.pubmedcentral.nih.gov/articlerender.fcgi?tool=pubmed&pubmedid=14983022\">[Link]</a>\\n\\n  </td>\\n  <td>\\ndry, microbial, regulatory genomics\\n  </td>\\n </tr>\\n <tr>\\n  <td>\\n\\n<b><i>A genomic regulatory network for development.</i></b> Davidson, E.H.,\\nRast, J.P, Oliveri, P., Ransick, A., Calestani, C., Yuh, C.-H.,\\nMinokawa, T., Amore, G., Hinman, V., Arenas-Mena, C., Otim, O., Brown,\\nC.T., Livi, C.B., Lee, P.Y, Revilla, R., Schilstra, M.J., Clarke,\\nP.J.C., Rust, A.G., Pan, Z.J., Arnone, M.I., Rowen, L., Cameron, R.A.,\\nMcClay, D.R., Hood, L., and Bolouri, H.\\n<b>Science</b> 295, 1669-1678, 2002. <a href=\"http://www.sciencemag.org/cgi/content/full/295/5560/1669\">[Link]</a>\\n\\n  </td>\\n  <td>\\ngene regulatory networks\\n  </td>\\n </tr>\\n</table>\\n<p>\\n\\nFor all prior publications by Dr. Brown, search for \\'brown ct\\' in PubMed\\n(ignore the urology publications, that\\'s a different \\'brown ct\\').\\n\\n</div>\\n</div>\\n</body>\\n</html>\\n\\n'"
       ]
      }
     ],
     "prompt_number": 5
    },
    {
     "cell_type": "markdown",
     "metadata": {},
     "source": [
      "# Finding page numbers with regex\n",
      "To use regular expressions we must first compile your pattern with the re.compile function.\n",
      "\n",
      "Suppose we wanted to find all the page ranges for the publications that appear on this html page.  "
     ]
    },
    {
     "cell_type": "code",
     "collapsed": false,
     "input": [
      "page_regex = re.compile(r'\\d+\\-\\d+')\n",
      "page_regex.findall(text)"
     ],
     "language": "python",
     "metadata": {},
     "outputs": [
      {
       "output_type": "pyout",
       "prompt_number": 52,
       "text": [
        "['16853172-1',\n",
        " '62-67',\n",
        " '7052-7',\n",
        " '337-65',\n",
        " '1-4',\n",
        " '27-34',\n",
        " '941-52',\n",
        " '1347-57',\n",
        " '2404-9',\n",
        " '1669-1678']"
       ]
      }
     ],
     "prompt_number": 52
    },
    {
     "cell_type": "markdown",
     "metadata": {},
     "source": [
      "That first 'page range' looks a little suspicious, lets check and see what character preceeds the matches"
     ]
    },
    {
     "cell_type": "code",
     "collapsed": false,
     "input": [
      "page_regex = re.compile(r'.\\d+\\-\\d+')\n",
      "page_regex.findall(text)"
     ],
     "language": "python",
     "metadata": {},
     "outputs": [
      {
       "output_type": "pyout",
       "prompt_number": 54,
       "text": [
        "['-16853172-1',\n",
        " ' 62-67',\n",
        " ':7052-7',\n",
        " ':337-65',\n",
        " 'V1-4',\n",
        " ':27-34',\n",
        " ':941-52',\n",
        " ':1347-57',\n",
        " ':2404-9',\n",
        " ' 1669-1678']"
       ]
      }
     ],
     "prompt_number": 54
    },
    {
     "cell_type": "markdown",
     "metadata": {},
     "source": [
      "It looks like page numbers are always preceeded by either a space or :, so we can modify our regex appropriately"
     ]
    },
    {
     "cell_type": "code",
     "collapsed": false,
     "input": [
      "page_regex = re.compile(r'[: ]\\d+\\-\\d+')\n",
      "page_regex.findall(text)"
     ],
     "language": "python",
     "metadata": {},
     "outputs": [
      {
       "output_type": "pyout",
       "prompt_number": 56,
       "text": [
        "[' 62-67',\n",
        " ':7052-7',\n",
        " ':337-65',\n",
        " ':27-34',\n",
        " ':941-52',\n",
        " ':1347-57',\n",
        " ':2404-9',\n",
        " ' 1669-1678']"
       ]
      }
     ],
     "prompt_number": 56
    },
    {
     "cell_type": "markdown",
     "metadata": {},
     "source": [
      "That's better, at least we're only getting things that look like page numbers now.  But we're not really interested in that first character, only the page numbers.  We can use what are called `capturing groups` to capture only a portion of the pattern."
     ]
    },
    {
     "cell_type": "code",
     "collapsed": false,
     "input": [
      "page_regex = re.compile(r'[: ](\\d+\\-\\d+)')\n",
      "page_regex.findall(text)"
     ],
     "language": "python",
     "metadata": {},
     "outputs": [
      {
       "output_type": "pyout",
       "prompt_number": 57,
       "text": [
        "['62-67',\n",
        " '7052-7',\n",
        " '337-65',\n",
        " '27-34',\n",
        " '941-52',\n",
        " '1347-57',\n",
        " '2404-9',\n",
        " '1669-1678']"
       ]
      }
     ],
     "prompt_number": 57
    },
    {
     "cell_type": "markdown",
     "metadata": {},
     "source": [
      "We could also use capturing groups to only retrieve the first page"
     ]
    },
    {
     "cell_type": "code",
     "collapsed": false,
     "input": [
      "page_regex = re.compile(r'[: ](\\d+)\\-\\d+')\n",
      "page_regex.findall(text)"
     ],
     "language": "python",
     "metadata": {},
     "outputs": [
      {
       "output_type": "pyout",
       "prompt_number": 58,
       "text": [
        "['62', '7052', '337', '27', '941', '1347', '2404', '1669']"
       ]
      }
     ],
     "prompt_number": 58
    },
    {
     "cell_type": "markdown",
     "metadata": {},
     "source": [
      "# Finding urls\n",
      "\n",
      "Our first question is 'what does a url look like?'. \n",
      "\n",
      "* Start with http or https [mostly...]\n",
      "* followed by a host name\n",
      "* a path\n",
      "* and a file name"
     ]
    },
    {
     "cell_type": "code",
     "collapsed": false,
     "input": [
      "http_regex = re.compile(r'https?://[\\w\\d\\./%]+')\n",
      "http_regex.findall(text)"
     ],
     "language": "python",
     "metadata": {},
     "outputs": [
      {
       "output_type": "pyout",
       "prompt_number": 59,
       "text": [
        "['http://www.w3.org/TR/xhtml1/DTD/xhtml1',\n",
        " 'http://www.w3.org/1999/xhtml',\n",
        " 'https://ssl',\n",
        " 'http://www',\n",
        " 'http://www.oswd.org/design/preview/id/2959',\n",
        " 'http://pnas.org/content/early/2012/07/25/1121464109.abstract',\n",
        " 'http://www.plosone.org/article/info%3Adoi%2F10.1371%2Fjournal.pone.0016399',\n",
        " 'http://conference.scipy.org/proceedings/SciPy2009/paper_10/',\n",
        " 'http://www.pubmedcentral.nih.gov/articlerender.fcgi',\n",
        " 'http://www.sciencedirect.com/science',\n",
        " 'http://www.pubmedcentral.nih.gov/articlerender.fcgi',\n",
        " 'http://www.sciencemag.org/cgi/content/full/314/5801/941',\n",
        " 'http://www.sciencedirect.com/science',\n",
        " 'http://www3.interscience.wiley.com/journal/118659843/abstract',\n",
        " 'http://www.pubmedcentral.nih.gov/articlerender.fcgi',\n",
        " 'http://www.pubmedcentral.nih.gov/articlerender.fcgi',\n",
        " 'http://www.sciencemag.org/cgi/content/full/295/5560/1669']"
       ]
      }
     ],
     "prompt_number": 59
    },
    {
     "cell_type": "markdown",
     "metadata": {},
     "source": [
      "What if we were only interested in the host names of the urls?"
     ]
    },
    {
     "cell_type": "code",
     "collapsed": false,
     "input": [
      "http_regex = re.compile(r'http://([\\w\\d\\.%]+)/[\\w\\d\\.%]+')\n",
      "http_regex.findall(text)"
     ],
     "language": "python",
     "metadata": {},
     "outputs": [
      {
       "output_type": "pyout",
       "prompt_number": 40,
       "text": [
        "['www.w3.org',\n",
        " 'www.w3.org',\n",
        " 'www.oswd.org',\n",
        " 'pnas.org',\n",
        " 'www.plosone.org',\n",
        " 'conference.scipy.org',\n",
        " 'www.pubmedcentral.nih.gov',\n",
        " 'www.sciencedirect.com',\n",
        " 'www.pubmedcentral.nih.gov',\n",
        " 'www.sciencemag.org',\n",
        " 'www.sciencedirect.com',\n",
        " 'www3.interscience.wiley.com',\n",
        " 'www.pubmedcentral.nih.gov',\n",
        " 'www.pubmedcentral.nih.gov',\n",
        " 'www.sciencemag.org']"
       ]
      }
     ],
     "prompt_number": 40
    },
    {
     "cell_type": "markdown",
     "metadata": {},
     "source": [
      "# Finding Author names"
     ]
    },
    {
     "cell_type": "code",
     "collapsed": false,
     "input": [
      "name_regex = re.compile(r'[A-Z][a-z]+(?:\\-[A-Z][a-z]+)?,? [A-Z](?:\\.? ?[A-Z])+')\n",
      "name_regex.findall(text)"
     ],
     "language": "python",
     "metadata": {},
     "outputs": [
      {
       "output_type": "pyout",
       "prompt_number": 67,
       "text": [
        "['James M. T',\n",
        " 'Sci USA',\n",
        " 'Jerome JP',\n",
        " 'Bell JA',\n",
        " 'Plovanich-Jones AE',\n",
        " 'Barrick JE',\n",
        " 'Brown CT',\n",
        " 'Manfield LS',\n",
        " 'Walt, J M',\n",
        " 'Dekas AE',\n",
        " 'Brown CT',\n",
        " 'Goffredi SK',\n",
        " 'Orphan VJ',\n",
        " 'Sci USA',\n",
        " 'Brown CT',\n",
        " 'Materna SC',\n",
        " 'Brown CT',\n",
        " 'Cameron RA',\n",
        " 'Davidson EH',\n",
        " 'Materna, C.T. B',\n",
        " 'Chen, R.A. C',\n",
        " 'Gralnick, C.T. B',\n",
        " 'Davidson, R.A. C',\n",
        " 'Brown CT',\n",
        " 'Callan CG J',\n",
        " 'Sci USA',\n",
        " 'Davidson, E.H',\n",
        " 'Rast, J.P',\n",
        " 'Livi, C.B',\n",
        " 'Lee, P.Y',\n",
        " 'Schilstra, M.J',\n",
        " 'Rust, A.G',\n",
        " 'Pan, Z.J',\n",
        " 'Arnone, M.I',\n",
        " 'Cameron, R.A',\n",
        " 'Clay, D.R']"
       ]
      }
     ],
     "prompt_number": 67
    },
    {
     "cell_type": "code",
     "collapsed": false,
     "input": [],
     "language": "python",
     "metadata": {},
     "outputs": []
    }
   ],
   "metadata": {}
  }
 ]
}